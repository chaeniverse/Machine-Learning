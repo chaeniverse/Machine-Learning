{
 "cells": [
  {
   "cell_type": "code",
   "execution_count": null,
   "metadata": {},
   "outputs": [],
   "source": [
    "import pandas as pd\n",
    "import numpy as np\n",
    "import matplotlib.pyplot as plt\n",
    "import xgboost as xgb\n",
    "from catboost import CatBoostClassifier\n",
    "from sklearn.svm import SVC\n",
    "from sklearn.ensemble import RandomForestClassifier\n",
    "from sklearn.neural_network import MLPClassifier\n",
    "from sklearn.linear_model import LogisticRegression\n",
    "from sklearn.pipeline import Pipeline\n",
    "from sklearn.preprocessing import StandardScaler\n",
    "from sklearn.model_selection import train_test_split, GridSearchCV, cross_validate, StratifiedKFold, RepeatedStratifiedKFold\n",
    "from sklearn.metrics import accuracy_score, roc_auc_score, confusion_matrix, classification_report, RocCurveDisplay, roc_curve,auc, precision_recall_curve, average_precision_score, f1_score, auc \n",
    "from sklearn.feature_selection import RFECV, RFE\n",
    "from skopt import BayesSearchCV\n",
    "from skopt.space import Real, Categorical, Integer\n",
    "from hyperopt import fmin, tpe, hp, STATUS_OK, Trials\n",
    "from imblearn.metrics import geometric_mean_score\n",
    "import json\n",
    "import seaborn as sns\n",
    "import warnings\n",
    "import pickle\n",
    "import shap\n",
    "warnings.filterwarnings(\"ignore\")\n",
    "sns.set_theme()\n",
    "\n",
    "from tqdm import tqdm"
   ]
  },
  {
   "cell_type": "code",
   "execution_count": 173,
   "metadata": {},
   "outputs": [],
   "source": [
    "X_train = pd.read_csv(f'C:/Users/chaehyun/Dropbox/Work/PIPET/과제/산부인과/난소암 연구/분석/분석/[24-12-11] rfe feature selection data/X_train.csv')\n",
    "X_test = pd.read_csv(f'C:/Users/chaehyun/Dropbox/Work/PIPET/과제/산부인과/난소암 연구/분석/분석/[24-12-11] rfe feature selection data/X_test.csv')    \n",
    "y_train = pd.read_csv(f'C:/Users/chaehyun/Dropbox/Work/PIPET/과제/산부인과/난소암 연구/분석/분석/[24-12-11] rfe feature selection data/y_train.csv')\n",
    "y_test = pd.read_csv(f'C:/Users/chaehyun/Dropbox/Work/PIPET/과제/산부인과/난소암 연구/분석/분석/[24-12-11] rfe feature selection data/y_test.csv')    \n",
    "\n",
    "\n",
    "X_train = X_train.drop(X_train.columns[0], axis=1)\n",
    "X_test = X_test.drop(X_test.columns[0], axis=1)\n",
    "y_train = y_train.drop(y_train.columns[0], axis=1)\n",
    "y_test = y_test.drop(y_test.columns[0], axis=1)"
   ]
  },
  {
   "cell_type": "code",
   "execution_count": null,
   "metadata": {},
   "outputs": [],
   "source": [
    "min_features_to_select = 2\n",
    "step = 1\n",
    "\n",
    "fit_LR = LogisticRegression()\n",
    "cv = StratifiedKFold(n_splits=5)\n",
    "\n",
    "rfecv = RFECV(estimator=fit_LR, min_features_to_select=min_features_to_select, step=step, cv=cv, scoring='accuracy')\n",
    "\n",
    "rfecv.fit(X_train, y_train)"
   ]
  },
  {
   "cell_type": "code",
   "execution_count": null,
   "metadata": {},
   "outputs": [],
   "source": [
    "plt.figure(figsize=(12, 9))\n",
    "plt.title('Recursive Feature Elimination with 5-fold Stratified cross-Validation', fontsize=18, fontweight='bold', pad=20)\n",
    "plt.xlabel('Number of features selected', fontsize=14, labelpad=20)\n",
    "plt.ylabel('Mean test score (accuracy)', fontsize=14, labelpad=20)\n",
    "plt.plot(range(min_features_to_select, len(rfecv.cv_results_['mean_test_score'])*step + min_features_to_select, step), rfecv.cv_results_['mean_test_score'], color='blue', linewidth=3)\n",
    "# plt.vlines(x=5, ymin=np.min(rfecv.cv_results_['mean_test_score']), ymax=0.9, color='gray', linestyle='dotted', linewidth=3)"
   ]
  },
  {
   "cell_type": "code",
   "execution_count": null,
   "metadata": {},
   "outputs": [],
   "source": [
    "selector = RFE(fit_LR, n_features_to_select=5)\n",
    "selector.fit(X_train,y_train)"
   ]
  },
  {
   "cell_type": "code",
   "execution_count": null,
   "metadata": {},
   "outputs": [],
   "source": [
    "X_train.columns[selector.support_]"
   ]
  },
  {
   "cell_type": "code",
   "execution_count": null,
   "metadata": {},
   "outputs": [],
   "source": []
  },
  {
   "cell_type": "code",
   "execution_count": null,
   "metadata": {},
   "outputs": [],
   "source": []
  }
 ],
 "metadata": {
  "kernelspec": {
   "display_name": "ovcancer",
   "language": "python",
   "name": "python3"
  },
  "language_info": {
   "codemirror_mode": {
    "name": "ipython",
    "version": 3
   },
   "file_extension": ".py",
   "mimetype": "text/x-python",
   "name": "python",
   "nbconvert_exporter": "python",
   "pygments_lexer": "ipython3",
   "version": "3.9.20"
  }
 },
 "nbformat": 4,
 "nbformat_minor": 2
}

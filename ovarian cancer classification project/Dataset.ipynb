{
 "cells": [
  {
   "cell_type": "code",
   "execution_count": null,
   "metadata": {},
   "outputs": [],
   "source": [
    "import pandas as pd\n",
    "import numpy as np\n",
    "import matplotlib.pyplot as plt\n",
    "import xgboost as xgb\n",
    "from catboost import CatBoostClassifier\n",
    "from sklearn.svm import SVC\n",
    "from sklearn.ensemble import RandomForestClassifier\n",
    "from sklearn.neural_network import MLPClassifier\n",
    "from sklearn.linear_model import LogisticRegression\n",
    "from sklearn.pipeline import Pipeline\n",
    "from sklearn.preprocessing import StandardScaler\n",
    "from sklearn.model_selection import train_test_split, GridSearchCV, cross_validate, StratifiedKFold, RepeatedStratifiedKFold\n",
    "from sklearn.metrics import accuracy_score, roc_auc_score, confusion_matrix, classification_report, RocCurveDisplay, roc_curve,auc, precision_recall_curve, average_precision_score, f1_score, auc \n",
    "from skopt import BayesSearchCV\n",
    "from skopt.space import Real, Categorical, Integer\n",
    "from hyperopt import fmin, tpe, hp, STATUS_OK, Trials\n",
    "from imblearn.metrics import geometric_mean_score\n",
    "from copy import deepcopy\n",
    "import json\n",
    "import seaborn as sns\n",
    "import warnings\n",
    "import pickle\n",
    "import shap\n",
    "warnings.filterwarnings(\"ignore\")\n",
    "sns.set_theme()\n",
    "\n",
    "from tqdm import tqdm"
   ]
  },
  {
   "cell_type": "code",
   "execution_count": 2,
   "metadata": {},
   "outputs": [],
   "source": [
    "import os\n",
    "# os.chdir('/data/camin/chlee/jupyter/ML project/Data/')\n",
    "os.chdir('C:/Users/chaehyun/Dropbox/Work/PIPET/과제/산부인과/난소암 연구/Analysis dataset')"
   ]
  },
  {
   "cell_type": "code",
   "execution_count": 5,
   "metadata": {},
   "outputs": [],
   "source": [
    "ov_cancer = pd.read_excel('OVSTORY_ADS.xlsx')"
   ]
  },
  {
   "cell_type": "code",
   "execution_count": 6,
   "metadata": {},
   "outputs": [],
   "source": [
    "ov_cancer2 = deepcopy(ov_cancer)"
   ]
  },
  {
   "cell_type": "code",
   "execution_count": 7,
   "metadata": {},
   "outputs": [],
   "source": [
    "ov_cancer2 = ov_cancer2[['AGE','MP_OXC','FHXNG','BRCACC','BMIG','DMC','PHX_CAC','DELI_OXC_2GROUP','GROUP_OV','GROUPEHY','GROUPEHN','GROUPENONHY','GROUPENONHN']]"
   ]
  },
  {
   "cell_type": "code",
   "execution_count": 8,
   "metadata": {},
   "outputs": [],
   "source": [
    "ov_cancer2[['BRCACC']] = ov_cancer2[['BRCACC']].fillna(0)"
   ]
  },
  {
   "cell_type": "code",
   "execution_count": 9,
   "metadata": {},
   "outputs": [],
   "source": [
    "ov_cancer2[['BRCACC']] = ov_cancer2[['BRCACC']].astype(\"Int64\")\n",
    "ov_cancer2[['BRCACC']] = ov_cancer2[['BRCACC']].astype(\"category\")"
   ]
  },
  {
   "cell_type": "code",
   "execution_count": null,
   "metadata": {},
   "outputs": [],
   "source": [
    "print(ov_cancer2['GROUPEHY'].value_counts(dropna=False))\n",
    "print(ov_cancer2['GROUPEHN'].value_counts(dropna=False))\n",
    "print(ov_cancer2['GROUPENONHY'].value_counts(dropna=False))\n",
    "print(ov_cancer2['GROUPENONHN'].value_counts(dropna=False))\n",
    "print(ov_cancer2[['GROUPEHY','GROUPEHN','GROUPENONHY','GROUPENONHN']].value_counts(dropna=False))"
   ]
  },
  {
   "cell_type": "code",
   "execution_count": null,
   "metadata": {},
   "outputs": [],
   "source": [
    "print(ov_cancer2['GROUP_OV'].value_counts(dropna=False))"
   ]
  },
  {
   "cell_type": "code",
   "execution_count": 12,
   "metadata": {},
   "outputs": [],
   "source": [
    "ov_cancer2.loc[ov_cancer2['GROUPEHN'].notna() | ov_cancer2['GROUPEHY'].notna(), 'FAMILY_HISTORY'] = 1\n",
    "ov_cancer2.loc[ov_cancer2['GROUPENONHN'].notna() | ov_cancer2['GROUPENONHY'].notna(), 'FAMILY_HISTORY'] = 0"
   ]
  },
  {
   "cell_type": "code",
   "execution_count": 13,
   "metadata": {},
   "outputs": [],
   "source": [
    "ov_cancer2.loc[ov_cancer2.GROUP_OV == 1, 'label'] = 1 # 1: OV ca\n",
    "ov_cancer2.loc[ov_cancer2.GROUP_OV == 2, 'label'] = 0 # 0: Non OV ca\n",
    "\n",
    "ov_cancer2.drop(columns='GROUP_OV', inplace=True)"
   ]
  },
  {
   "cell_type": "code",
   "execution_count": 14,
   "metadata": {},
   "outputs": [],
   "source": [
    "ov_cancer2['BMIG'] = ov_cancer2['BMIG'].apply(lambda x: 1 if x <=2 else x)"
   ]
  },
  {
   "cell_type": "code",
   "execution_count": 15,
   "metadata": {},
   "outputs": [],
   "source": [
    "ov_cancer2['FHXNG'] = ov_cancer2['FHXNG'].apply(lambda x: 2 if x >=2 else x)"
   ]
  },
  {
   "cell_type": "code",
   "execution_count": 16,
   "metadata": {},
   "outputs": [],
   "source": [
    "ov_cancer2['BMIG'] = ov_cancer2['BMIG'].replace(1,0)\n",
    "ov_cancer2['BMIG'] = ov_cancer2['BMIG'].replace(3,1)"
   ]
  },
  {
   "cell_type": "code",
   "execution_count": 17,
   "metadata": {},
   "outputs": [],
   "source": [
    "ov_cancer2['FHXNG'] = ov_cancer2['FHXNG'].replace(1,0)\n",
    "ov_cancer2['FHXNG'] = ov_cancer2['FHXNG'].replace(2,1)"
   ]
  },
  {
   "cell_type": "code",
   "execution_count": 18,
   "metadata": {},
   "outputs": [],
   "source": [
    "ov_cancer2 = ov_cancer2.drop(['GROUPEHY', 'GROUPEHN', 'GROUPENONHY', 'GROUPENONHN'], axis=1)"
   ]
  },
  {
   "cell_type": "code",
   "execution_count": 19,
   "metadata": {},
   "outputs": [],
   "source": [
    "X = ov_cancer2.drop(['label'], axis=1) \n",
    "y = ov_cancer2['label']"
   ]
  },
  {
   "cell_type": "code",
   "execution_count": 20,
   "metadata": {},
   "outputs": [],
   "source": [
    "def categorical(data):\n",
    "\n",
    "    category_col = ['BRCACC']\n",
    "\n",
    "    data[category_col] = data[category_col].astype('Int64')\n",
    "    data[category_col] = data[category_col].astype('category')\n",
    "\n",
    "    binary_factors = ['MP_OXC','DMC','PHX_CAC','DELI_OXC_2GROUP']\n",
    "\n",
    "    data[binary_factors] = data[binary_factors].astype('Int64')\n",
    "    data[binary_factors] = data[binary_factors].replace(2,0)\n",
    "    data[binary_factors] = data[binary_factors].astype('category')\n",
    "    \n",
    "    data['FAMILY_HISTORY'] = data['FAMILY_HISTORY'].astype('Int64')\n",
    "    data['FAMILY_HISTORY'] = data['FAMILY_HISTORY'].astype('category')\n",
    "\n",
    "    data2 = deepcopy(data)\n",
    "    \n",
    "    return data2"
   ]
  },
  {
   "cell_type": "code",
   "execution_count": 21,
   "metadata": {},
   "outputs": [],
   "source": [
    "for num in range(1,50+1):\n",
    "\n",
    "    X_train, X_test, y_train, y_test = train_test_split(X, y, test_size=0.3, shuffle=True, stratify=y, random_state=num)\n",
    "    \n",
    "    X_train_ = categorical(X_train)\n",
    "    X_test_ = categorical(X_test)\n",
    "    \n",
    "    continuous_col = ['AGE']\n",
    "    categorical_col = ['MP_OXC','FHXNG','BRCACC','BMIG','DMC','PHX_CAC','DELI_OXC_2GROUP']\n",
    "\n",
    "    medians = X_train_[continuous_col].median()\n",
    "    X_train_[continuous_col] = X_train_[continuous_col].fillna(medians)\n",
    "\n",
    "    modes = []\n",
    "    \n",
    "    for i in range(len(categorical_col)):\n",
    "        col = categorical_col[i]\n",
    "        modes.append(X_train_[col].mode(dropna=True)[0])\n",
    "    \n",
    "    modes = pd.Series(modes, index = categorical_col)\n",
    "    X_train_[categorical_col] = X_train_[categorical_col].fillna(modes)\n",
    "\n",
    "\n",
    "    ### X_test에도 적용 ###\n",
    "    X_test_[continuous_col] = X_test_[continuous_col].fillna(medians)\n",
    "    X_test_[categorical_col] = X_test_[categorical_col].fillna(modes)\n",
    "    \n",
    "    \n",
    "    ### dummy화 ###\n",
    "    category_col = ['BRCACC']\n",
    "    binary_factors = ['MP_OXC','FHXNG','BMIG','DMC','PHX_CAC','DELI_OXC_2GROUP','FAMILY_HISTORY']\n",
    "\n",
    "    X_train_ = pd.get_dummies(X_train_, columns=category_col, drop_first=True, dtype='int')\n",
    "    X_train_[binary_factors] = X_train_[binary_factors].astype('Int64')\n",
    "\n",
    "    X_test_ = pd.get_dummies(X_test_, columns=category_col, drop_first=True, dtype='int')\n",
    "    X_test_[binary_factors] = X_test_[binary_factors].astype('Int64')\n",
    "    \n",
    "    globals()[f'X_train_{num}'] = X_train_ \n",
    "    globals()[f'X_test_{num}'] = X_test_\n",
    "    globals()[f'y_train_{num}'] = y_train\n",
    "    globals()[f'y_test_{num}'] = y_test"
   ]
  },
  {
   "cell_type": "code",
   "execution_count": 22,
   "metadata": {},
   "outputs": [],
   "source": [
    "for i in range(1,50+1):\n",
    "    exec(f'X_train = X_train_{i}')\n",
    "    exec(f'X_test = X_test_{i}')\n",
    "    exec(f'y_train = y_train_{i}')\n",
    "    exec(f'y_test = y_test_{i}')\n",
    "    \n",
    "    X_train.to_csv(f'C:/Users/chaehyun/Dropbox/Work/PIPET/과제/산부인과/난소암 연구/Analysis dataset/Data for WS/[24-12-12]/X_train/X_train_{i}.csv')\n",
    "    X_test.to_csv(f'C:/Users/chaehyun/Dropbox/Work/PIPET/과제/산부인과/난소암 연구/Analysis dataset/Data for WS/[24-12-12]/X_test/X_test_{i}.csv')\n",
    "    y_train.to_csv(f'C:/Users/chaehyun/Dropbox/Work/PIPET/과제/산부인과/난소암 연구/Analysis dataset/Data for WS/[24-12-12]/y_train/y_train_{i}.csv')\n",
    "    y_test.to_csv(f'C:/Users/chaehyun/Dropbox/Work/PIPET/과제/산부인과/난소암 연구/Analysis dataset/Data for WS/[24-12-12]/y_test/y_test_{i}.csv')                "
   ]
  },
  {
   "cell_type": "code",
   "execution_count": null,
   "metadata": {},
   "outputs": [],
   "source": []
  },
  {
   "cell_type": "code",
   "execution_count": null,
   "metadata": {},
   "outputs": [],
   "source": []
  }
 ],
 "metadata": {
  "kernelspec": {
   "display_name": "ovcancer",
   "language": "python",
   "name": "python3"
  },
  "language_info": {
   "codemirror_mode": {
    "name": "ipython",
    "version": 3
   },
   "file_extension": ".py",
   "mimetype": "text/x-python",
   "name": "python",
   "nbconvert_exporter": "python",
   "pygments_lexer": "ipython3",
   "version": "3.9.20"
  }
 },
 "nbformat": 4,
 "nbformat_minor": 2
}

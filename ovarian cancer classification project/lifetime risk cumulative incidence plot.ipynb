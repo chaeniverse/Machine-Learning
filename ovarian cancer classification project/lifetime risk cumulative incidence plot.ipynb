{
 "cells": [
  {
   "cell_type": "code",
   "execution_count": 21,
   "metadata": {},
   "outputs": [],
   "source": [
    "import pandas as pd\n",
    "import numpy as np\n",
    "import matplotlib.pyplot as plt\n",
    "import xgboost as xgb\n",
    "from catboost import CatBoostClassifier\n",
    "from sklearn.svm import SVC\n",
    "from sklearn.ensemble import RandomForestClassifier\n",
    "from sklearn.neural_network import MLPClassifier\n",
    "from sklearn.linear_model import LogisticRegression\n",
    "from sklearn.pipeline import Pipeline\n",
    "from sklearn.preprocessing import StandardScaler\n",
    "from sklearn.model_selection import train_test_split, GridSearchCV, cross_validate, StratifiedKFold, RepeatedStratifiedKFold\n",
    "from sklearn.metrics import accuracy_score, roc_auc_score, confusion_matrix, classification_report, RocCurveDisplay, roc_curve,auc, precision_recall_curve, average_precision_score, f1_score, auc \n",
    "from skopt import BayesSearchCV\n",
    "from skopt.space import Real, Categorical, Integer\n",
    "from hyperopt import fmin, tpe, hp, STATUS_OK, Trials\n",
    "from imblearn.metrics import geometric_mean_score\n",
    "from copy import deepcopy\n",
    "import json\n",
    "import seaborn as sns\n",
    "import warnings\n",
    "import pickle\n",
    "import shap\n",
    "warnings.filterwarnings(\"ignore\")\n",
    "sns.set_theme()\n",
    "\n",
    "from tqdm import tqdm"
   ]
  },
  {
   "cell_type": "code",
   "execution_count": 4,
   "metadata": {},
   "outputs": [],
   "source": [
    "for i in range(1,1+1):\n",
    "    \n",
    "    X_train = pd.read_csv(f'C:/Users/chaehyun/Dropbox/Work/PIPET/과제/산부인과/난소암 연구/Analysis dataset/Data for WS/[24-12-12]/X_train/X_train_{i}.csv')\n",
    "    X_test = pd.read_csv(f'C:/Users/chaehyun/Dropbox/Work/PIPET/과제/산부인과/난소암 연구/Analysis dataset/Data for WS/[24-12-12]/X_test/X_test_{i}.csv')    \n",
    "    y_train = pd.read_csv(f'C:/Users/chaehyun/Dropbox/Work/PIPET/과제/산부인과/난소암 연구/Analysis dataset/Data for WS/[24-12-12]/y_train/y_train_{i}.csv')\n",
    "    y_test = pd.read_csv(f'C:/Users/chaehyun/Dropbox/Work/PIPET/과제/산부인과/난소암 연구/Analysis dataset/Data for WS/[24-12-12]/y_test/y_test_{i}.csv')\n",
    "\n",
    "    globals()[f'X_train_{i}'] = X_train.drop(X_train.columns[0], axis=1)\n",
    "    globals()[f'X_test_{i}'] = X_test.drop(X_test.columns[0], axis=1)\n",
    "    globals()[f'y_train_{i}'] = y_train.drop(y_train.columns[0], axis=1)\n",
    "    globals()[f'y_test_{i}'] = y_test.drop(y_test.columns[0], axis=1)"
   ]
  },
  {
   "cell_type": "markdown",
   "metadata": {},
   "source": [
    "- we performed this analysis when the data are high-risk group."
   ]
  },
  {
   "cell_type": "code",
   "execution_count": 5,
   "metadata": {},
   "outputs": [],
   "source": [
    "for i in range(1,1+1):\n",
    "    \n",
    "    exec(f'X_train = X_train_{i}')\n",
    "    exec(f'X_test = X_test_{i}')\n",
    "    \n",
    "    exec(f'y_train = y_train_{i}')\n",
    "    exec(f'y_test = y_test_{i}')\n",
    "    \n",
    "    X_train = X_train[X_train['FAMILY_HISTORY']==1][['AGE','MP_OXC','FHXNG','BRCACC_1','BRCACC_2','BMIG']]\n",
    "    X_test = X_test[X_test['FAMILY_HISTORY']==1][['AGE','MP_OXC','FHXNG','BRCACC_1','BRCACC_2','BMIG']]\n",
    "\n",
    "    y_train = y_train.iloc[X_train.index]\n",
    "    y_test = y_test.iloc[X_test.index]\n",
    "    \n",
    "\n",
    "    X_train.reset_index(drop=True, inplace=True)\n",
    "    X_test.reset_index(drop=True, inplace=True)\n",
    "\n",
    "    globals()[f'X_train_{i}'] = X_train\n",
    "    globals()[f'X_test_{i}'] = X_test\n",
    "    \n",
    "    y_train.reset_index(drop=True)\n",
    "    y_test.reset_index(drop=True)\n",
    "    \n",
    "    globals()[f'y_train_{i}'] = y_train\n",
    "    globals()[f'y_test_{i}'] = y_test"
   ]
  },
  {
   "cell_type": "code",
   "execution_count": 6,
   "metadata": {},
   "outputs": [],
   "source": [
    "i = 1\n",
    "\n",
    "model = pickle.load(open(f\"C:/Users/chaehyun/Dropbox/Work/PIPET/과제/산부인과/난소암 연구/Analysis dataset/Data for WS/[24-12-12]/subgroup analysis/hr/model pkl save/Catboost/fit_catboost_{i}.pkl\", 'rb')) "
   ]
  },
  {
   "cell_type": "code",
   "execution_count": 7,
   "metadata": {},
   "outputs": [],
   "source": [
    "i = 1\n",
    "\n",
    "exec(f'X_train = X_train_{i}')\n",
    "exec(f'X_test = X_test_{i}')\n",
    "\n",
    "exec(f'y_train = y_train_{i}')\n",
    "exec(f'y_test = y_test_{i}')\n",
    "\n",
    "age_mean = np.mean(X_train['AGE'])\n",
    "age_std = np.std(X_train['AGE'])\n",
    "\n",
    "X_train['AGE'] = (X_train['AGE'] - age_mean) / age_std\n",
    "X_test['AGE'] = (X_test['AGE'] - age_mean) / age_std"
   ]
  },
  {
   "cell_type": "code",
   "execution_count": null,
   "metadata": {},
   "outputs": [],
   "source": [
    "round(age_mean,4), round(age_std,4)"
   ]
  },
  {
   "cell_type": "markdown",
   "metadata": {},
   "source": [
    "### when high risk"
   ]
  },
  {
   "cell_type": "code",
   "execution_count": 9,
   "metadata": {},
   "outputs": [],
   "source": [
    "my_dict = {'AGE':[0],\n",
    "           \n",
    "           'MP_OXC':[0],\n",
    "           'FHXNG':[1],\n",
    "           'BRCACC_1':[1],\n",
    "           'BRCACC_2':[0],\n",
    "           'BMIG':[1]\n",
    "          }\n",
    "my_dict = pd.DataFrame(my_dict)"
   ]
  },
  {
   "cell_type": "code",
   "execution_count": null,
   "metadata": {},
   "outputs": [],
   "source": [
    "my_dict"
   ]
  },
  {
   "cell_type": "code",
   "execution_count": 11,
   "metadata": {},
   "outputs": [],
   "source": [
    "high_risk = []\n",
    "\n",
    "for i in range(20,69+1):\n",
    "\n",
    "    my_dict['AGE'] = i    \n",
    "    my_dict['AGE'] = (my_dict['AGE'] - age_mean) / age_std\n",
    "    \n",
    "    y_pred_probs = model.predict_proba(my_dict)[:,1][0]\n",
    "    \n",
    "    high_risk.append(y_pred_probs)"
   ]
  },
  {
   "cell_type": "markdown",
   "metadata": {},
   "source": [
    "### when non-high risk"
   ]
  },
  {
   "cell_type": "code",
   "execution_count": 12,
   "metadata": {},
   "outputs": [],
   "source": [
    "my_dict = {'AGE':[0],\n",
    "           \n",
    "           'MP_OXC':[0],\n",
    "           'FHXNG':[0],\n",
    "           'BRCACC_1':[0],\n",
    "           'BRCACC_2':[0],\n",
    "           'BMIG':[0]\n",
    "          }\n",
    "my_dict = pd.DataFrame(my_dict)"
   ]
  },
  {
   "cell_type": "code",
   "execution_count": null,
   "metadata": {},
   "outputs": [],
   "source": [
    "my_dict"
   ]
  },
  {
   "cell_type": "code",
   "execution_count": 13,
   "metadata": {},
   "outputs": [],
   "source": [
    "non_highrisk = []\n",
    "\n",
    "for i in range(20,69+1):\n",
    "        \n",
    "    my_dict['AGE'] = i    \n",
    "    my_dict['AGE'] = (my_dict['AGE'] - age_mean) / age_std\n",
    "    \n",
    "    y_pred_probs = model.predict_proba(my_dict)[:,1][0]\n",
    "\n",
    "    non_highrisk.append(y_pred_probs)"
   ]
  },
  {
   "cell_type": "code",
   "execution_count": 14,
   "metadata": {},
   "outputs": [],
   "source": [
    "age = [i for i in range(20,69+1)]\n",
    "my_dict = {'Age': age, 'high_risk': high_risk, 'non high_risk': non_highrisk}\n",
    "data = pd.DataFrame(my_dict)"
   ]
  },
  {
   "cell_type": "code",
   "execution_count": null,
   "metadata": {},
   "outputs": [],
   "source": [
    "data"
   ]
  },
  {
   "cell_type": "code",
   "execution_count": 16,
   "metadata": {},
   "outputs": [],
   "source": [
    "# data.to_csv(f'C:/Users/chaehyun/Dropbox/Work/PIPET/과제/산부인과/난소암 연구/분석/분석/probability from sample cohort/241224_ps_hr.csv', index=False)"
   ]
  },
  {
   "cell_type": "markdown",
   "metadata": {},
   "source": [
    "### lifetime risk cumulative incidence plot"
   ]
  },
  {
   "cell_type": "code",
   "execution_count": 17,
   "metadata": {},
   "outputs": [],
   "source": [
    "prevalence = 0.078055021"
   ]
  },
  {
   "cell_type": "code",
   "execution_count": 18,
   "metadata": {},
   "outputs": [],
   "source": [
    "beta = (7332/2166)*prevalence"
   ]
  },
  {
   "cell_type": "code",
   "execution_count": null,
   "metadata": {},
   "outputs": [],
   "source": [
    "round(beta,4)"
   ]
  },
  {
   "cell_type": "code",
   "execution_count": 22,
   "metadata": {},
   "outputs": [],
   "source": [
    "data_calibrated = deepcopy(data)"
   ]
  },
  {
   "cell_type": "code",
   "execution_count": 23,
   "metadata": {},
   "outputs": [],
   "source": [
    "data_calibrated['high_risk'] = (beta*data_calibrated['high_risk'])/(beta*data_calibrated['high_risk']-data_calibrated['high_risk']+1)\n",
    "data_calibrated['non high_risk'] = (beta*data_calibrated['non high_risk'])/(beta*data_calibrated['non high_risk']-data_calibrated['non high_risk']+1)"
   ]
  },
  {
   "cell_type": "code",
   "execution_count": 24,
   "metadata": {},
   "outputs": [],
   "source": [
    "woman_mortal_prob = np.array([0.00027, 0.0003, 0.00032, 0.00032, \n",
    "    0.00033, 0.00033, 0.00034, 0.00036, 0.00036,\n",
    "    0.00037, 0.00038, 0.00039, 0.0004, 0.00042,\n",
    "    0.00045, 0.00047, 0.00051, 0.00056, 0.00061,\n",
    "    0.00067, 0.00073, 0.00078, 0.00082, 0.00087,\n",
    "    0.00093, 0.00101, 0.0011, 0.00118, 0.00125,\n",
    "    0.00131, 0.00135, 0.00139, 0.00145, 0.00155,\n",
    "    0.00168, 0.00183, 0.00196, 0.00205, 0.00212,\n",
    "    0.00224, 0.00244, 0.00268, 0.00295, 0.00318, \n",
    "    0.00345, 0.00381, 0.00426, 0.00479, 0.00539, 0.00611])\n",
    "woman_surv_prob = 1- woman_mortal_prob\n",
    "\n",
    "data_calibrated['woman_surv_prob'] = woman_surv_prob"
   ]
  },
  {
   "cell_type": "code",
   "execution_count": 25,
   "metadata": {},
   "outputs": [],
   "source": [
    "data_calibrated['IR_high'] = data_calibrated['high_risk']/3.5\n",
    "data_calibrated['IR_Low'] = data_calibrated['non high_risk']/3.5\n",
    "\n",
    "data_calibrated['IR_high*surv'] = data_calibrated['IR_high'] * data_calibrated['woman_surv_prob']\n",
    "data_calibrated['IR_Low*surv'] = data_calibrated['IR_Low'] * data_calibrated['woman_surv_prob']"
   ]
  },
  {
   "cell_type": "code",
   "execution_count": 26,
   "metadata": {},
   "outputs": [],
   "source": [
    "data_calibrated['lifetime_hr'] = np.zeros(len(data_calibrated))\n",
    "data_calibrated['lifetime_nonhr'] = np.zeros(len(data_calibrated))"
   ]
  },
  {
   "cell_type": "code",
   "execution_count": 27,
   "metadata": {},
   "outputs": [],
   "source": [
    "for i in range(len(data_calibrated)):\n",
    "    data_calibrated['lifetime_hr'][i] = 1-np.exp(-sum(data_calibrated['IR_high*surv'][0:i+1]))\n",
    "    data_calibrated['lifetime_nonhr'][i] = 1-np.exp(-sum(data_calibrated['IR_Low*surv'][0:i+1]))"
   ]
  },
  {
   "cell_type": "code",
   "execution_count": null,
   "metadata": {},
   "outputs": [],
   "source": [
    "plt.figure(0)\n",
    "\n",
    "# 예쁘게 그리기!\n",
    "plt.plot(data_calibrated['Age'], data_calibrated[['lifetime_hr']], label = 'high risk group', color='#E64B35FF')\n",
    "plt.plot(data_calibrated['Age'], data_calibrated[['lifetime_nonhr']], label = 'non-high risk group', color='#3C5488FF')\n",
    "plt.ylim(0, 1.0)\n",
    "plt.xlabel('Age')\n",
    "plt.ylabel('Cumulative incidence (%)')\n",
    "plt.title('Cumulative incidence plot using lifetime risk')\n",
    "plt.legend(loc='best')\n",
    "\n",
    "\n",
    "# plt.savefig('C:/Users/chaehyun/Dropbox/Work/PIPET/과제/산부인과/난소암 연구/Figure/lifetime risk ci plot/[24-12-05]/ci plot.tiff', format='tiff', dpi=300)  \n",
    "# plt.savefig('C:/Users/chaehyun/Dropbox/Work/PIPET/과제/산부인과/난소암 연구/Figure/lifetime risk ci plot/[24-12-05]/ci plot.pdf', format='pdf', dpi=300)  \n",
    "# plt.close()  "
   ]
  },
  {
   "cell_type": "code",
   "execution_count": null,
   "metadata": {},
   "outputs": [],
   "source": []
  }
 ],
 "metadata": {
  "kernelspec": {
   "display_name": "ovcancer",
   "language": "python",
   "name": "python3"
  },
  "language_info": {
   "codemirror_mode": {
    "name": "ipython",
    "version": 3
   },
   "file_extension": ".py",
   "mimetype": "text/x-python",
   "name": "python",
   "nbconvert_exporter": "python",
   "pygments_lexer": "ipython3",
   "version": "3.9.20"
  }
 },
 "nbformat": 4,
 "nbformat_minor": 2
}
